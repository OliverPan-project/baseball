{
 "cells": [
  {
   "cell_type": "code",
   "execution_count": 44,
   "metadata": {},
   "outputs": [],
   "source": [
    "import pandas as pd\n",
    "import numpy as np\n",
    "import seaborn as sns\n",
    "import matplotlib as plt"
   ]
  },
  {
   "cell_type": "code",
   "execution_count": 45,
   "metadata": {},
   "outputs": [],
   "source": [
    "filepath = r\"C:\\Users\\Oliver\\Desktop\\baseball.csv\""
   ]
  },
  {
   "cell_type": "code",
   "execution_count": 46,
   "metadata": {},
   "outputs": [],
   "source": [
    "df = pd.read_csv(filepath)"
   ]
  },
  {
   "cell_type": "markdown",
   "metadata": {},
   "source": [
    "### Count should be above 81"
   ]
  },
  {
   "cell_type": "code",
   "execution_count": 47,
   "metadata": {},
   "outputs": [],
   "source": [
    "df = df[[\"attendance\", \"away_team\", \"away_team_errors\", \"away_team_runs\", \"home_team\", \"home_team_errors\", \"home_team_runs\", \"game_type\", \"venue\"]]"
   ]
  },
  {
   "cell_type": "code",
   "execution_count": 48,
   "metadata": {},
   "outputs": [
    {
     "data": {
      "text/html": [
       "<div>\n",
       "<style scoped>\n",
       "    .dataframe tbody tr th:only-of-type {\n",
       "        vertical-align: middle;\n",
       "    }\n",
       "\n",
       "    .dataframe tbody tr th {\n",
       "        vertical-align: top;\n",
       "    }\n",
       "\n",
       "    .dataframe thead th {\n",
       "        text-align: right;\n",
       "    }\n",
       "</style>\n",
       "<table border=\"1\" class=\"dataframe\">\n",
       "  <thead>\n",
       "    <tr style=\"text-align: right;\">\n",
       "      <th></th>\n",
       "      <th>attendance</th>\n",
       "      <th>away_team</th>\n",
       "      <th>away_team_errors</th>\n",
       "      <th>away_team_runs</th>\n",
       "      <th>home_team</th>\n",
       "      <th>home_team_errors</th>\n",
       "      <th>home_team_runs</th>\n",
       "      <th>game_type</th>\n",
       "      <th>venue</th>\n",
       "    </tr>\n",
       "  </thead>\n",
       "  <tbody>\n",
       "    <tr>\n",
       "      <th>0</th>\n",
       "      <td>40,030']</td>\n",
       "      <td>New York Mets</td>\n",
       "      <td>1</td>\n",
       "      <td>3</td>\n",
       "      <td>Kansas City Royals</td>\n",
       "      <td>0</td>\n",
       "      <td>4</td>\n",
       "      <td>Night Game, on grass</td>\n",
       "      <td>: Kauffman Stadium</td>\n",
       "    </tr>\n",
       "    <tr>\n",
       "      <th>1</th>\n",
       "      <td>21,621']</td>\n",
       "      <td>Philadelphia Phillies</td>\n",
       "      <td>0</td>\n",
       "      <td>2</td>\n",
       "      <td>Cincinnati Reds</td>\n",
       "      <td>0</td>\n",
       "      <td>3</td>\n",
       "      <td>Night Game, on grass</td>\n",
       "      <td>: Great American Ball Park</td>\n",
       "    </tr>\n",
       "    <tr>\n",
       "      <th>2</th>\n",
       "      <td>12,622']</td>\n",
       "      <td>Minnesota Twins</td>\n",
       "      <td>0</td>\n",
       "      <td>2</td>\n",
       "      <td>Baltimore Orioles</td>\n",
       "      <td>0</td>\n",
       "      <td>4</td>\n",
       "      <td>Night Game, on grass</td>\n",
       "      <td>: Oriole Park at Camden Yards</td>\n",
       "    </tr>\n",
       "    <tr>\n",
       "      <th>3</th>\n",
       "      <td>18,531']</td>\n",
       "      <td>Washington Nationals</td>\n",
       "      <td>0</td>\n",
       "      <td>3</td>\n",
       "      <td>Atlanta Braves</td>\n",
       "      <td>1</td>\n",
       "      <td>1</td>\n",
       "      <td>Night Game, on grass</td>\n",
       "      <td>: Turner Field</td>\n",
       "    </tr>\n",
       "    <tr>\n",
       "      <th>4</th>\n",
       "      <td>18,572']</td>\n",
       "      <td>Colorado Rockies</td>\n",
       "      <td>1</td>\n",
       "      <td>4</td>\n",
       "      <td>Arizona Diamondbacks</td>\n",
       "      <td>0</td>\n",
       "      <td>3</td>\n",
       "      <td>Day Game, on grass</td>\n",
       "      <td>: Chase Field</td>\n",
       "    </tr>\n",
       "  </tbody>\n",
       "</table>\n",
       "</div>"
      ],
      "text/plain": [
       "  attendance              away_team  away_team_errors  away_team_runs  \\\n",
       "0   40,030']          New York Mets                 1               3   \n",
       "1   21,621']  Philadelphia Phillies                 0               2   \n",
       "2   12,622']        Minnesota Twins                 0               2   \n",
       "3   18,531']   Washington Nationals                 0               3   \n",
       "4   18,572']       Colorado Rockies                 1               4   \n",
       "\n",
       "              home_team  home_team_errors  home_team_runs  \\\n",
       "0    Kansas City Royals                 0               4   \n",
       "1       Cincinnati Reds                 0               3   \n",
       "2     Baltimore Orioles                 0               4   \n",
       "3        Atlanta Braves                 1               1   \n",
       "4  Arizona Diamondbacks                 0               3   \n",
       "\n",
       "              game_type                          venue  \n",
       "0  Night Game, on grass             : Kauffman Stadium  \n",
       "1  Night Game, on grass     : Great American Ball Park  \n",
       "2  Night Game, on grass  : Oriole Park at Camden Yards  \n",
       "3  Night Game, on grass                 : Turner Field  \n",
       "4    Day Game, on grass                  : Chase Field  "
      ]
     },
     "execution_count": 48,
     "metadata": {},
     "output_type": "execute_result"
    }
   ],
   "source": [
    "df.head()"
   ]
  },
  {
   "cell_type": "code",
   "execution_count": 49,
   "metadata": {},
   "outputs": [
    {
     "name": "stdout",
     "output_type": "stream",
     "text": [
      "<class 'pandas.core.frame.DataFrame'>\n",
      "RangeIndex: 2463 entries, 0 to 2462\n",
      "Data columns (total 9 columns):\n",
      " #   Column            Non-Null Count  Dtype \n",
      "---  ------            --------------  ----- \n",
      " 0   attendance        2463 non-null   object\n",
      " 1   away_team         2463 non-null   object\n",
      " 2   away_team_errors  2463 non-null   int64 \n",
      " 3   away_team_runs    2463 non-null   int64 \n",
      " 4   home_team         2463 non-null   object\n",
      " 5   home_team_errors  2463 non-null   int64 \n",
      " 6   home_team_runs    2463 non-null   int64 \n",
      " 7   game_type         2460 non-null   object\n",
      " 8   venue             2463 non-null   object\n",
      "dtypes: int64(4), object(5)\n",
      "memory usage: 173.3+ KB\n"
     ]
    }
   ],
   "source": [
    "df.info()"
   ]
  },
  {
   "cell_type": "markdown",
   "metadata": {},
   "source": [
    "### Filter Attendance"
   ]
  },
  {
   "cell_type": "code",
   "execution_count": 50,
   "metadata": {
    "collapsed": true
   },
   "outputs": [
    {
     "name": "stderr",
     "output_type": "stream",
     "text": [
      "C:\\Users\\Oliver\\anaconda3\\lib\\site-packages\\ipykernel_launcher.py:2: SettingWithCopyWarning: \n",
      "A value is trying to be set on a copy of a slice from a DataFrame\n",
      "\n",
      "See the caveats in the documentation: https://pandas.pydata.org/pandas-docs/stable/user_guide/indexing.html#returning-a-view-versus-a-copy\n",
      "  \n"
     ]
    }
   ],
   "source": [
    "for index in df.index:\n",
    "    df[\"attendance\"][index] = str(df[\"attendance\"][index])[0:6]"
   ]
  },
  {
   "cell_type": "code",
   "execution_count": 51,
   "metadata": {},
   "outputs": [
    {
     "data": {
      "text/html": [
       "<div>\n",
       "<style scoped>\n",
       "    .dataframe tbody tr th:only-of-type {\n",
       "        vertical-align: middle;\n",
       "    }\n",
       "\n",
       "    .dataframe tbody tr th {\n",
       "        vertical-align: top;\n",
       "    }\n",
       "\n",
       "    .dataframe thead th {\n",
       "        text-align: right;\n",
       "    }\n",
       "</style>\n",
       "<table border=\"1\" class=\"dataframe\">\n",
       "  <thead>\n",
       "    <tr style=\"text-align: right;\">\n",
       "      <th></th>\n",
       "      <th>attendance</th>\n",
       "      <th>away_team</th>\n",
       "      <th>away_team_errors</th>\n",
       "      <th>away_team_runs</th>\n",
       "      <th>home_team</th>\n",
       "      <th>home_team_errors</th>\n",
       "      <th>home_team_runs</th>\n",
       "      <th>game_type</th>\n",
       "      <th>venue</th>\n",
       "    </tr>\n",
       "  </thead>\n",
       "  <tbody>\n",
       "    <tr>\n",
       "      <th>0</th>\n",
       "      <td>40,030</td>\n",
       "      <td>New York Mets</td>\n",
       "      <td>1</td>\n",
       "      <td>3</td>\n",
       "      <td>Kansas City Royals</td>\n",
       "      <td>0</td>\n",
       "      <td>4</td>\n",
       "      <td>Night Game, on grass</td>\n",
       "      <td>: Kauffman Stadium</td>\n",
       "    </tr>\n",
       "    <tr>\n",
       "      <th>1</th>\n",
       "      <td>21,621</td>\n",
       "      <td>Philadelphia Phillies</td>\n",
       "      <td>0</td>\n",
       "      <td>2</td>\n",
       "      <td>Cincinnati Reds</td>\n",
       "      <td>0</td>\n",
       "      <td>3</td>\n",
       "      <td>Night Game, on grass</td>\n",
       "      <td>: Great American Ball Park</td>\n",
       "    </tr>\n",
       "    <tr>\n",
       "      <th>2</th>\n",
       "      <td>12,622</td>\n",
       "      <td>Minnesota Twins</td>\n",
       "      <td>0</td>\n",
       "      <td>2</td>\n",
       "      <td>Baltimore Orioles</td>\n",
       "      <td>0</td>\n",
       "      <td>4</td>\n",
       "      <td>Night Game, on grass</td>\n",
       "      <td>: Oriole Park at Camden Yards</td>\n",
       "    </tr>\n",
       "    <tr>\n",
       "      <th>3</th>\n",
       "      <td>18,531</td>\n",
       "      <td>Washington Nationals</td>\n",
       "      <td>0</td>\n",
       "      <td>3</td>\n",
       "      <td>Atlanta Braves</td>\n",
       "      <td>1</td>\n",
       "      <td>1</td>\n",
       "      <td>Night Game, on grass</td>\n",
       "      <td>: Turner Field</td>\n",
       "    </tr>\n",
       "    <tr>\n",
       "      <th>4</th>\n",
       "      <td>18,572</td>\n",
       "      <td>Colorado Rockies</td>\n",
       "      <td>1</td>\n",
       "      <td>4</td>\n",
       "      <td>Arizona Diamondbacks</td>\n",
       "      <td>0</td>\n",
       "      <td>3</td>\n",
       "      <td>Day Game, on grass</td>\n",
       "      <td>: Chase Field</td>\n",
       "    </tr>\n",
       "  </tbody>\n",
       "</table>\n",
       "</div>"
      ],
      "text/plain": [
       "  attendance              away_team  away_team_errors  away_team_runs  \\\n",
       "0     40,030          New York Mets                 1               3   \n",
       "1     21,621  Philadelphia Phillies                 0               2   \n",
       "2     12,622        Minnesota Twins                 0               2   \n",
       "3     18,531   Washington Nationals                 0               3   \n",
       "4     18,572       Colorado Rockies                 1               4   \n",
       "\n",
       "              home_team  home_team_errors  home_team_runs  \\\n",
       "0    Kansas City Royals                 0               4   \n",
       "1       Cincinnati Reds                 0               3   \n",
       "2     Baltimore Orioles                 0               4   \n",
       "3        Atlanta Braves                 1               1   \n",
       "4  Arizona Diamondbacks                 0               3   \n",
       "\n",
       "              game_type                          venue  \n",
       "0  Night Game, on grass             : Kauffman Stadium  \n",
       "1  Night Game, on grass     : Great American Ball Park  \n",
       "2  Night Game, on grass  : Oriole Park at Camden Yards  \n",
       "3  Night Game, on grass                 : Turner Field  \n",
       "4    Day Game, on grass                  : Chase Field  "
      ]
     },
     "execution_count": 51,
     "metadata": {},
     "output_type": "execute_result"
    }
   ],
   "source": [
    "df.head()"
   ]
  },
  {
   "cell_type": "code",
   "execution_count": 52,
   "metadata": {},
   "outputs": [],
   "source": [
    "winner = []\n",
    "\n",
    "for index in df.index:\n",
    "    if df[\"away_team_runs\"][index] > df[\"home_team_runs\"][index]:\n",
    "        winner.append(df[\"away_team\"][index])\n",
    "    else:\n",
    "        winner.append(df[\"home_team\"][index])\n",
    "        \n",
    "df.insert(9, \"Winning Team\", winner, True)"
   ]
  },
  {
   "cell_type": "code",
   "execution_count": 53,
   "metadata": {},
   "outputs": [],
   "source": [
    "df = df.sort_values(by=[\"home_team\"])\n",
    "df = df.reset_index()"
   ]
  },
  {
   "cell_type": "code",
   "execution_count": 55,
   "metadata": {},
   "outputs": [],
   "source": [
    "df = df.drop([\"index\"], axis = 1)"
   ]
  },
  {
   "cell_type": "code",
   "execution_count": 56,
   "metadata": {},
   "outputs": [
    {
     "data": {
      "text/html": [
       "<div>\n",
       "<style scoped>\n",
       "    .dataframe tbody tr th:only-of-type {\n",
       "        vertical-align: middle;\n",
       "    }\n",
       "\n",
       "    .dataframe tbody tr th {\n",
       "        vertical-align: top;\n",
       "    }\n",
       "\n",
       "    .dataframe thead th {\n",
       "        text-align: right;\n",
       "    }\n",
       "</style>\n",
       "<table border=\"1\" class=\"dataframe\">\n",
       "  <thead>\n",
       "    <tr style=\"text-align: right;\">\n",
       "      <th></th>\n",
       "      <th>attendance</th>\n",
       "      <th>away_team</th>\n",
       "      <th>away_team_errors</th>\n",
       "      <th>away_team_runs</th>\n",
       "      <th>home_team</th>\n",
       "      <th>home_team_errors</th>\n",
       "      <th>home_team_runs</th>\n",
       "      <th>game_type</th>\n",
       "      <th>venue</th>\n",
       "      <th>Winning Team</th>\n",
       "    </tr>\n",
       "  </thead>\n",
       "  <tbody>\n",
       "    <tr>\n",
       "      <th>0</th>\n",
       "      <td>32,935</td>\n",
       "      <td>Pittsburgh Pirates</td>\n",
       "      <td>1</td>\n",
       "      <td>1</td>\n",
       "      <td>Arizona Diamondbacks</td>\n",
       "      <td>0</td>\n",
       "      <td>7</td>\n",
       "      <td>Night Game, on grass</td>\n",
       "      <td>: Chase Field</td>\n",
       "      <td>Arizona Diamondbacks</td>\n",
       "    </tr>\n",
       "    <tr>\n",
       "      <th>1</th>\n",
       "      <td>29,370</td>\n",
       "      <td>Milwaukee Brewers</td>\n",
       "      <td>3</td>\n",
       "      <td>15</td>\n",
       "      <td>Arizona Diamondbacks</td>\n",
       "      <td>0</td>\n",
       "      <td>6</td>\n",
       "      <td>Night Game, on grass</td>\n",
       "      <td>: Chase Field</td>\n",
       "      <td>Milwaukee Brewers</td>\n",
       "    </tr>\n",
       "    <tr>\n",
       "      <th>2</th>\n",
       "      <td>18,933</td>\n",
       "      <td>St. Louis Cardinals</td>\n",
       "      <td>0</td>\n",
       "      <td>0</td>\n",
       "      <td>Arizona Diamondbacks</td>\n",
       "      <td>1</td>\n",
       "      <td>3</td>\n",
       "      <td>Night Game, on grass</td>\n",
       "      <td>: Chase Field</td>\n",
       "      <td>Arizona Diamondbacks</td>\n",
       "    </tr>\n",
       "    <tr>\n",
       "      <th>3</th>\n",
       "      <td>21,374</td>\n",
       "      <td>Los Angeles Dodgers</td>\n",
       "      <td>0</td>\n",
       "      <td>2</td>\n",
       "      <td>Arizona Diamondbacks</td>\n",
       "      <td>0</td>\n",
       "      <td>3</td>\n",
       "      <td>Night Game, on grass</td>\n",
       "      <td>: Chase Field</td>\n",
       "      <td>Arizona Diamondbacks</td>\n",
       "    </tr>\n",
       "    <tr>\n",
       "      <th>4</th>\n",
       "      <td>26,159</td>\n",
       "      <td>Los Angeles Dodgers</td>\n",
       "      <td>1</td>\n",
       "      <td>9</td>\n",
       "      <td>Arizona Diamondbacks</td>\n",
       "      <td>0</td>\n",
       "      <td>10</td>\n",
       "      <td>Day Game, on grass</td>\n",
       "      <td>: Chase Field</td>\n",
       "      <td>Arizona Diamondbacks</td>\n",
       "    </tr>\n",
       "  </tbody>\n",
       "</table>\n",
       "</div>"
      ],
      "text/plain": [
       "  attendance            away_team  away_team_errors  away_team_runs  \\\n",
       "0     32,935   Pittsburgh Pirates                 1               1   \n",
       "1     29,370    Milwaukee Brewers                 3              15   \n",
       "2     18,933  St. Louis Cardinals                 0               0   \n",
       "3     21,374  Los Angeles Dodgers                 0               2   \n",
       "4     26,159  Los Angeles Dodgers                 1               9   \n",
       "\n",
       "              home_team  home_team_errors  home_team_runs  \\\n",
       "0  Arizona Diamondbacks                 0               7   \n",
       "1  Arizona Diamondbacks                 0               6   \n",
       "2  Arizona Diamondbacks                 1               3   \n",
       "3  Arizona Diamondbacks                 0               3   \n",
       "4  Arizona Diamondbacks                 0              10   \n",
       "\n",
       "              game_type          venue          Winning Team  \n",
       "0  Night Game, on grass  : Chase Field  Arizona Diamondbacks  \n",
       "1  Night Game, on grass  : Chase Field     Milwaukee Brewers  \n",
       "2  Night Game, on grass  : Chase Field  Arizona Diamondbacks  \n",
       "3  Night Game, on grass  : Chase Field  Arizona Diamondbacks  \n",
       "4    Day Game, on grass  : Chase Field  Arizona Diamondbacks  "
      ]
     },
     "execution_count": 56,
     "metadata": {},
     "output_type": "execute_result"
    }
   ],
   "source": [
    "df.head()"
   ]
  },
  {
   "cell_type": "code",
   "execution_count": null,
   "metadata": {},
   "outputs": [],
   "source": [
    "### Organize Columns"
   ]
  }
 ],
 "metadata": {
  "kernelspec": {
   "display_name": "Python 3",
   "language": "python",
   "name": "python3"
  },
  "language_info": {
   "codemirror_mode": {
    "name": "ipython",
    "version": 3
   },
   "file_extension": ".py",
   "mimetype": "text/x-python",
   "name": "python",
   "nbconvert_exporter": "python",
   "pygments_lexer": "ipython3",
   "version": "3.7.6"
  }
 },
 "nbformat": 4,
 "nbformat_minor": 4
}
